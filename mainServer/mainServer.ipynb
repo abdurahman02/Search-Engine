{
 "cells": [
  {
   "cell_type": "code",
   "execution_count": 1,
   "id": "ffcec733",
   "metadata": {},
   "outputs": [],
   "source": [
    "import queue\n",
    "import threading\n",
    "import time\n",
    "import socket\n",
    "import sys \n",
    "import pickle\n",
    "import os"
   ]
  },
  {
   "cell_type": "code",
   "execution_count": 2,
   "id": "182cf5b3",
   "metadata": {},
   "outputs": [],
   "source": [
    "class myThread (threading.Thread):\n",
    "    def __init__(self, threadID, name, conn, query, subServerPort):\n",
    "        threading.Thread.__init__(self)\n",
    "        self.threadID = threadID\n",
    "        self.name = name\n",
    "        self.conn = conn\n",
    "        self.query = query\n",
    "        self.subServerPort = subServerPort\n",
    "    def run(self):\n",
    "        print( \"Starting \" + self.name)\n",
    "        mergedResult = []\n",
    "        for server in self.subServerPort:\n",
    "            s = socket.socket(socket.AF_INET, socket.SOCK_STREAM)\n",
    "\n",
    "            s.connect((\"localhost\", server))\n",
    "            s.send(pickle.dumps(query))\n",
    "            res = pickle.loads(s.recv(1024))\n",
    "            print(server, \" result: \",res)\n",
    "            if res != \"file Not Found\":\n",
    "                mergedResult.append(res)\n",
    "            s.close()\n",
    "\n",
    "            \n",
    "        print(mergedResult)\n",
    "        if len(mergedResult):\n",
    "            self.conn.send(pickle.dumps(mergedResult))\n",
    "        else:\n",
    "            self.conn.send(pickle.dumps(\"file Not Found\"))\n",
    "    \n",
    "        self.conn.close()\n",
    "        print (\"Exiting \" + self.name)\n",
    "\n"
   ]
  },
  {
   "cell_type": "code",
   "execution_count": null,
   "id": "ee9def47",
   "metadata": {},
   "outputs": [
    {
     "name": "stdout",
     "output_type": "stream",
     "text": [
      "MainServer socket is listening\n"
     ]
    }
   ],
   "source": [
    "subserver = [12300, 12301, 12302, 12303, 12304]\n",
    "threads=[]\n",
    "s = socket.socket(socket.AF_INET, socket.SOCK_STREAM)\n",
    "\n",
    "# 12345 mainServer port\n",
    "s.bind(('localhost', 12345))\n",
    "s.listen(5)     \n",
    "print (\"MainServer socket is listening\")\n",
    "for i in range(5):\n",
    "    c, addr = s.accept()\n",
    "    print ('Got connection from', addr )\n",
    "    query = pickle.loads(c.recv(1000))\n",
    "#     query = \"_SubServer00File_00.txt\"\n",
    "    thread = myThread(i+1, str(\"Thread-\"+ str(i+1)), c, query, subserver)\n",
    "    thread.start()\n",
    "    threads.append(thread)\n",
    "    \n",
    "for x in threads:\n",
    "    x.join()\n",
    "print(\"exiting main thread\")"
   ]
  },
  {
   "cell_type": "code",
   "execution_count": null,
   "id": "81ff0a64",
   "metadata": {},
   "outputs": [],
   "source": []
  }
 ],
 "metadata": {
  "kernelspec": {
   "display_name": "Python 3",
   "language": "python",
   "name": "python3"
  },
  "language_info": {
   "codemirror_mode": {
    "name": "ipython",
    "version": 3
   },
   "file_extension": ".py",
   "mimetype": "text/x-python",
   "name": "python",
   "nbconvert_exporter": "python",
   "pygments_lexer": "ipython3",
   "version": "3.8.8"
  }
 },
 "nbformat": 4,
 "nbformat_minor": 5
}
