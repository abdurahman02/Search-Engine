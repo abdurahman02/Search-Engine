{
 "cells": [
  {
   "cell_type": "code",
   "execution_count": 1,
   "id": "facdb6c7",
   "metadata": {},
   "outputs": [],
   "source": [
    "import queue\n",
    "import threading\n",
    "import time\n",
    "import socket\n",
    "import sys \n",
    "import pickle\n",
    "import os"
   ]
  },
  {
   "cell_type": "code",
   "execution_count": 2,
   "id": "621a2db3",
   "metadata": {},
   "outputs": [],
   "source": [
    "def isAvailable(query):\n",
    "    files = os.listdir('.')\n",
    "    dict = {}\n",
    "\n",
    "    for filename in files:\n",
    "        dict[filename] = {'name': filename,'size': os.path.getsize(filename), 'lastModified': time.ctime(os.path.getmtime(filename))}\n",
    "\n",
    "    if query in dict:\n",
    "        return (dict[query])\n",
    "    return \"file Not Found\""
   ]
  },
  {
   "cell_type": "code",
   "execution_count": 3,
   "id": "c5997215",
   "metadata": {},
   "outputs": [],
   "source": [
    "class myThread (threading.Thread):\n",
    "    def __init__(self, threadID, name, conn, query):\n",
    "        threading.Thread.__init__(self)\n",
    "        self.threadID = threadID\n",
    "        self.name = name\n",
    "        self.conn = conn\n",
    "        self.query = query\n",
    "    def run(self):\n",
    "        print( \"Starting \" + self.name)\n",
    "        res = isAvailable(self.query)\n",
    "        self.conn.send(pickle.dumps(res))\n",
    "        \n",
    "        self.conn.close()\n",
    "        print (\"Exiting \" + self.name)\n",
    "\n"
   ]
  },
  {
   "cell_type": "code",
   "execution_count": null,
   "id": "5af6aec1",
   "metadata": {},
   "outputs": [
    {
     "name": "stdout",
     "output_type": "stream",
     "text": [
      "subServer00 socket is listening\n",
      "Got connection from ('127.0.0.1', 59372)\n",
      "Starting Thread-1\n",
      "Exiting Thread-1\n",
      "Got connection from ('127.0.0.1', 59388)\n",
      "Starting Thread-2\n",
      "Exiting Thread-2\n"
     ]
    }
   ],
   "source": [
    "threads=[]\n",
    "s = socket.socket(socket.AF_INET, socket.SOCK_STREAM)\n",
    "\n",
    "# 12304 subserver00 port\n",
    "s.bind(('localhost', 12300))\n",
    "s.listen(5)     \n",
    "print (\"subServer00 socket is listening\")\n",
    "for i in range(15):\n",
    "    c, addr = s.accept()\n",
    "    print ('Got connection from', addr )\n",
    "    query = pickle.loads(c.recv(1000))\n",
    "    \n",
    "    thread = myThread(i+1, str(\"Thread-\"+ str(i+1)), c, query)\n",
    "    thread.start()\n",
    "    threads.append(thread)\n",
    "    \n",
    "for x in threads:\n",
    "    x.join()\n",
    "print(\"exiting main thread\")"
   ]
  },
  {
   "cell_type": "code",
   "execution_count": null,
   "id": "2478726e",
   "metadata": {},
   "outputs": [],
   "source": []
  }
 ],
 "metadata": {
  "kernelspec": {
   "display_name": "Python 3",
   "language": "python",
   "name": "python3"
  },
  "language_info": {
   "codemirror_mode": {
    "name": "ipython",
    "version": 3
   },
   "file_extension": ".py",
   "mimetype": "text/x-python",
   "name": "python",
   "nbconvert_exporter": "python",
   "pygments_lexer": "ipython3",
   "version": "3.8.8"
  }
 },
 "nbformat": 4,
 "nbformat_minor": 5
}
