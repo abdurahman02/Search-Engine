{
 "cells": [
  {
   "cell_type": "code",
   "execution_count": 18,
   "id": "b46e4c52",
   "metadata": {},
   "outputs": [],
   "source": [
    "import queue\n",
    "import threading\n",
    "import time\n",
    "import socket\n",
    "import sys \n",
    "import pickle\n",
    "import numpy as np"
   ]
  },
  {
   "cell_type": "code",
   "execution_count": 29,
   "id": "bcda297c",
   "metadata": {},
   "outputs": [],
   "source": [
    "query = \"commonFile_1&2.txt\""
   ]
  },
  {
   "cell_type": "code",
   "execution_count": 30,
   "id": "cd11bef5",
   "metadata": {},
   "outputs": [
    {
     "name": "stdout",
     "output_type": "stream",
     "text": [
      "[{'name': 'commonFile_1&2.txt', 'size': 171, 'lastModified': 'Wed May 12 13:03:03 2021'}, {'name': 'commonFile_1&2.txt', 'size': 171, 'lastModified': 'Wed May 12 13:03:03 2021'}]\n"
     ]
    }
   ],
   "source": [
    "s = socket.socket(socket.AF_INET, socket.SOCK_STREAM)\n",
    "\n",
    "s.connect((\"localhost\", 12345))\n",
    "s.send(pickle.dumps(query))\n",
    "print(pickle.loads(s.recv(1024)))\n",
    "\n",
    "s.close()     "
   ]
  },
  {
   "cell_type": "code",
   "execution_count": 15,
   "id": "68a53b4b",
   "metadata": {},
   "outputs": [],
   "source": [
    "subserver = [12300, 12301, 12302, 12303, 12304]"
   ]
  },
  {
   "cell_type": "code",
   "execution_count": 17,
   "id": "a6ed15e5",
   "metadata": {},
   "outputs": [
    {
     "data": {
      "text/plain": [
       "12302"
      ]
     },
     "execution_count": 17,
     "metadata": {},
     "output_type": "execute_result"
    }
   ],
   "source": [
    "\n"
   ]
  },
  {
   "cell_type": "code",
   "execution_count": null,
   "id": "95edbba6",
   "metadata": {},
   "outputs": [],
   "source": []
  }
 ],
 "metadata": {
  "kernelspec": {
   "display_name": "Python 3",
   "language": "python",
   "name": "python3"
  },
  "language_info": {
   "codemirror_mode": {
    "name": "ipython",
    "version": 3
   },
   "file_extension": ".py",
   "mimetype": "text/x-python",
   "name": "python",
   "nbconvert_exporter": "python",
   "pygments_lexer": "ipython3",
   "version": "3.8.8"
  }
 },
 "nbformat": 4,
 "nbformat_minor": 5
}
